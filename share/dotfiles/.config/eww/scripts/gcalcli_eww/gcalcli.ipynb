{
 "cells": [
  {
   "cell_type": "code",
   "execution_count": 1,
   "metadata": {},
   "outputs": [],
   "source": [
    "import subprocess\n",
    "import json\n",
    "from datetime import datetime, timedelta\n",
    "import re \n",
    "import argparse\n",
    "# Run the gcalcli command\n",
    "current_date = datetime.now()\n",
    "next_date = current_date + timedelta(days=1)\n",
    "command = [\"gcalcli\", \"--refresh\" ,\"agenda\", current_date.strftime('%Y-%m-%d'), next_date.strftime('%Y-%m-%d'), \"--details\", \"end\"]\n",
    "result = subprocess.run(command, capture_output=True, text=True)\n",
    "command_update = [\"/bin/eww\", \"update\"]\n",
    "\n",
    "# print(result)"
   ]
  },
  {
   "cell_type": "code",
   "execution_count": 2,
   "metadata": {},
   "outputs": [],
   "source": [
    "# TODO: fucking up if there is an event spanning over 2 days"
   ]
  },
  {
   "cell_type": "code",
   "execution_count": 3,
   "metadata": {},
   "outputs": [
    {
     "name": "stdout",
     "output_type": "stream",
     "text": [
      "\u001b[0;33m\n",
      "Sat Feb 15\u001b[0m\u001b[0;36m           drink vitamin d\n",
      "\u001b[0m\u001b[0;33m          \u001b[0m\u001b[0;36m           icici due date\n",
      "\u001b[0m\u001b[0;33m          \u001b[0m\u001b[31;1m  5:45pm  - 6:45pm   ashok vatika run\n",
      "\u001b[0m\u001b[0;33m          \u001b[0m\u001b[0;36m  7:00pm  - 8:00pm   weekly Trading review\n",
      "\u001b[0m\u001b[0;33m          \u001b[0m\u001b[0;36m  8:00pm  - 9:00pm   trade code\n",
      "\u001b[0m\u001b[0;33m          \u001b[0m\u001b[0;36m  10:00pm - 10:15pm  declutter\n",
      "\u001b[0m\n"
     ]
    }
   ],
   "source": [
    "gcalcli_output = str(result.stdout)\n",
    "print(str(gcalcli_output))"
   ]
  },
  {
   "cell_type": "code",
   "execution_count": 4,
   "metadata": {},
   "outputs": [],
   "source": [
    "\n",
    "def strip_ansi_colors(text):\n",
    "    ansi_escape = re.compile(r'\\x1B\\[[0-?]*[ -/]*[@-~]')\n",
    "    return ansi_escape.sub('', text)"
   ]
  },
  {
   "cell_type": "code",
   "execution_count": 5,
   "metadata": {},
   "outputs": [
    {
     "name": "stdout",
     "output_type": "stream",
     "text": [
      "Sat Feb 15 \n"
     ]
    }
   ],
   "source": [
    "date_str = datetime.now().strftime('%a %b %d') + ' '\n",
    "print(date_str)\n",
    "resultstr = strip_ansi_colors(gcalcli_output).replace(date_str, \"\", 1)\n"
   ]
  },
  {
   "cell_type": "code",
   "execution_count": 6,
   "metadata": {},
   "outputs": [
    {
     "name": "stdout",
     "output_type": "stream",
     "text": [
      "5:45pm  - 6:45pm   ashok vatika run\n",
      "7:00pm  - 8:00pm   weekly Trading review\n",
      "8:00pm  - 9:00pm   trade code\n",
      "10:00pm - 10:15pm  declutter\n",
      "[{'start': '5:45pm', 'end': '6:45pm', 'title': 'ashok vatika run'}, {'start': '7:00pm', 'end': '8:00pm', 'title': 'weekly Trading review'}, {'start': '8:00pm', 'end': '9:00pm', 'title': 'trade code'}, {'start': '10:00pm', 'end': '10:15pm', 'title': 'declutter'}]\n",
      "[{0: 'drink vitamin d'}, {1: 'icici due date'}]\n"
     ]
    }
   ],
   "source": [
    "events = []\n",
    "full_day_events = []\n",
    "counter = 0\n",
    "for line in resultstr.splitlines():\n",
    "    line = line.lstrip()\n",
    "    if ':' in line:\n",
    "        print(line)\n",
    "        match = re.match(r'(?P<start_time>\\d{1,2}:\\d{2}[ap]m)\\s*-\\s*(?P<end_time>\\d{1,2}:\\d{2}[ap]m)\\s+(?P<title>.+)', line)\n",
    "        start_time = match.group(\"start_time\")\n",
    "        end_time = match.group(\"end_time\")\n",
    "        title = match.group(\"title\")\n",
    "        event = {'start':start_time, 'end':end_time, 'title':title}\n",
    "        # event = {'interval':f\"{start_time}-{end_time}\", 'title':title}\n",
    "\n",
    "        events.append(event)\n",
    "    elif line != '':\n",
    "        full_day_events.append({counter:line})\n",
    "        counter = counter + 1\n",
    "        \n",
    "print(events)\n",
    "print(full_day_events)"
   ]
  },
  {
   "cell_type": "code",
   "execution_count": null,
   "metadata": {},
   "outputs": [],
   "source": [
    "def dt(time_str):\n",
    "    time_obj =  datetime.strptime(time_str, '%I:%M%p').time()\n",
    "    dt_obj =  datetime.combine(datetime.now().date(), time_obj)\n",
    "    # print(dt_obj)\n",
    "    return dt_obj"
   ]
  },
  {
   "cell_type": "code",
   "execution_count": null,
   "metadata": {},
   "outputs": [],
   "source": [
    "\n",
    "\n",
    "def get_events():\n",
    "    current_event = ''\n",
    "    next_event = {}\n",
    "\n",
    "    current_time = datetime.now()\n",
    "    for i, event in enumerate(events):\n",
    "        if dt(event['start']) < current_time and dt(event['end']) >current_time:\n",
    "            current_event = event\n",
    "            if i < len(events) - 1:\n",
    "                next_event = events[i+1]\n",
    "            print(f\"current event is {current_event}\")\n",
    "            print(f\"next event is {next_event}\")\n",
    "            break\n",
    "        elif dt(event['start']) > current_time:\n",
    "            next_event = event\n",
    "            print(f\"no current event next event is {next_event}\")\n",
    "            break\n",
    "    data = {'0':current_event ,'1': next_event}\n",
    "    with open(\"/tmp/events.json\", \"w\") as file:\n",
    "        json.dump(data, file, indent=4) \n",
    "    with open(\"/tmp/entire_day_events.json\", \"w\") as file:\n",
    "        json.dump(full_day_events, file, indent=4) \n",
    "\n",
    "def getCurrentEvent():\n",
    "    current_event, b = get_events()\n",
    "    return current_event\n",
    "\n",
    "def getNextEvent():\n",
    "    a , next_event = get_events()\n",
    "    return next_event\n",
    "    "
   ]
  },
  {
   "cell_type": "code",
   "execution_count": null,
   "metadata": {},
   "outputs": [],
   "source": [
    "get_events()\n",
    "result = subprocess.run(command_update, capture_output=True, text=True)\n"
   ]
  },
  {
   "cell_type": "code",
   "execution_count": null,
   "metadata": {},
   "outputs": [],
   "source": [
    "# if __name__ == \"__main__\":\n",
    "#     parser = argparse.ArgumentParser()\n",
    "#     parser.add_argument('--getCurrentEvent', action='store_true', default=None)\n",
    "#     parser.add_argument('--getNextEvent', action='store_true', default=None)\n",
    "    \n",
    "#     args = parser.parse_args()\n",
    "\n",
    "\n",
    "#     if args.getCurrentEvent is not None:\n",
    "#         print(getCurrentEvent())\n",
    "\n",
    "#     if args.getNextEvent is not None:\n",
    "#         print(getNextEvent())"
   ]
  }
 ],
 "metadata": {
  "kernelspec": {
   "display_name": "venv",
   "language": "python",
   "name": "python3"
  },
  "language_info": {
   "codemirror_mode": {
    "name": "ipython",
    "version": 3
   },
   "file_extension": ".py",
   "mimetype": "text/x-python",
   "name": "python",
   "nbconvert_exporter": "python",
   "pygments_lexer": "ipython3",
   "version": "3.13.1"
  }
 },
 "nbformat": 4,
 "nbformat_minor": 2
}
